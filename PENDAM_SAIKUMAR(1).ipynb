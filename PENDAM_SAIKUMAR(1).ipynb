{
  "nbformat": 4,
  "nbformat_minor": 0,
  "metadata": {
    "colab": {
      "provenance": []
    },
    "kernelspec": {
      "name": "python3",
      "display_name": "Python 3"
    },
    "language_info": {
      "name": "python"
    }
  },
  "cells": [
    {
      "cell_type": "code",
      "source": [
        "from sklearn.neighbors import NearestNeighbors\n",
        "\n",
        "# Calculate total spend for each customer\n",
        "total_spend = transactions.groupby('customer_id')['transaction_amount'].sum()\n",
        "\n",
        "# Merge customer data with total spend\n",
        "customer_data = customers.merge(total_spend, left_on='customer_id', right_index=True)\n",
        "\n",
        "# Identify the \"best\" customers based on top 10% spend\n",
        "best_customers = customer_data[customer_data['transaction_amount'] >= customer_data['transaction_amount'].quantile(0.9)]\n",
        "\n",
        "# Use NearestNeighbors to find similar customers\n",
        "X = customer_data[['age', 'gender', 'transaction_amount']].fillna(0)  # Example features\n",
        "nbrs = NearestNeighbors(n_neighbors=5).fit(X)\n",
        "distances, indices = nbrs.kneighbors(best_customers[['age', 'gender', 'transaction_amount']])\n",
        "\n",
        "# Display similar customers to one of the \"best\" customers\n",
        "print(\"Similar customers to customer ID 101:\")\n",
        "print(customer_data.iloc[indices[0]])\n"
      ],
      "metadata": {
        "id": "wmsy6NwrCAZh"
      },
      "execution_count": null,
      "outputs": []
    }
  ]
}