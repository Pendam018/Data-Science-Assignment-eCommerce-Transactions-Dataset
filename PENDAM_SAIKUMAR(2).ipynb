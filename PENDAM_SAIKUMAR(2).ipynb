{
  "nbformat": 4,
  "nbformat_minor": 0,
  "metadata": {
    "colab": {
      "provenance": []
    },
    "kernelspec": {
      "name": "python3",
      "display_name": "Python 3"
    },
    "language_info": {
      "name": "python"
    }
  },
  "cells": [
    {
      "cell_type": "code",
      "source": [
        "from sklearn.cluster import KMeans\n",
        "from sklearn.preprocessing import StandardScaler\n",
        "\n",
        "# Merge customer and transaction data\n",
        "customer_transactions = transactions.groupby('customer_id').agg(\n",
        "    total_spend=('transaction_amount', 'sum'),\n",
        "    frequency=('transaction_amount', 'count')\n",
        ").reset_index()\n",
        "\n",
        "customer_data = customers.merge(customer_transactions, on='customer_id')\n",
        "\n",
        "# Select relevant features (e.g., total spend, frequency)\n",
        "features = customer_data[['total_spend', 'frequency']]\n",
        "\n",
        "# Standardize the data (important for clustering)\n",
        "scaler = StandardScaler()\n",
        "scaled_features = scaler.fit_transform(features)\n",
        "\n",
        "# Perform K-means clustering (let's assume we choose 3 clusters)\n",
        "kmeans = KMeans(n_clusters=3, random_state=42)\n",
        "customer_data['cluster'] = kmeans.fit_predict(scaled_features)\n",
        "\n",
        "# Visualize the clusters\n",
        "plt.figure(figsize=(10,6))\n",
        "sns.scatterplot(x=customer_data['total_spend'], y=customer_data['frequency'], hue=customer_data['cluster'], palette='viridis')\n",
        "plt.title('Customer Segmentation')\n",
        "plt.xlabel('Total Spend')\n",
        "plt.ylabel('Frequency')\n",
        "plt.show()\n",
        "\n",
        "# Analyze the clusters\n",
        "cluster_summary = customer_data.groupby('cluster').agg({\n",
        "    'total_spend': ['mean', 'std'],\n",
        "    'frequency': ['mean', 'std']\n",
        "})\n",
        "print(cluster_summary)\n"
      ],
      "metadata": {
        "id": "PADcf_qdCWJz"
      },
      "execution_count": null,
      "outputs": []
    }
  ]
}